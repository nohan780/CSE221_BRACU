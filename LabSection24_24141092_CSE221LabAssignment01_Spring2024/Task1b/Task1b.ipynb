{
  "nbformat": 4,
  "nbformat_minor": 0,
  "metadata": {
    "colab": {
      "provenance": []
    },
    "kernelspec": {
      "name": "python3",
      "display_name": "Python 3"
    },
    "language_info": {
      "name": "python"
    }
  },
  "cells": [
    {
      "cell_type": "code",
      "source": [],
      "metadata": {
        "id": "70Atx6RUjbZy"
      },
      "execution_count": null,
      "outputs": []
    },
    {
      "cell_type": "code",
      "source": [
        "#task1b\n",
        "with open(\"input1b.txt\",\"r\") as file:\n",
        "  line = file.readlines()\n",
        "  for i in range(1,int(line[0])+1):\n",
        "    l = line[i].split(\" \")\n",
        "    n1 = int(l[1])\n",
        "    n2 = int(l[3])\n",
        "    sign = l[2]\n",
        "    with open(\"output1b.txt\",\"a\") as file:\n",
        "      if sign == \"+\":\n",
        "        file.write(f\"The result of {n1} {sign} {n2} is {n1 + n2}\\n\")\n",
        "      elif sign == \"-\":\n",
        "        file.write(f\"The result of {n1} {sign} {n2} is {n1 - n2}\\n\")\n",
        "      elif sign == \"*\":\n",
        "        file.write(f\"The result of {n1} {sign} {n2} is {n1 * n2}\\n\")\n",
        "      elif sign == \"/\":\n",
        "        file.write(f\"The result of {n1} {sign} {n2} is {n1 / n2}\\n\")"
      ],
      "metadata": {
        "id": "xQh0Z9pzSLLA"
      },
      "execution_count": null,
      "outputs": []
    }
  ]
}