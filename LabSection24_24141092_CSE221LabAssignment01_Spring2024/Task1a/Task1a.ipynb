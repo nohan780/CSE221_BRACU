{
  "nbformat": 4,
  "nbformat_minor": 0,
  "metadata": {
    "colab": {
      "provenance": []
    },
    "kernelspec": {
      "name": "python3",
      "display_name": "Python 3"
    },
    "language_info": {
      "name": "python"
    }
  },
  "cells": [
    {
      "cell_type": "code",
      "source": [
        "#task1a\n",
        "with open(\"input1a.txt\",\"r\") as file:\n",
        "  line = file.readlines()\n",
        "  for i in range(1,int(line[0])+1):\n",
        "    n = int(line[i])\n",
        "    with open(\"output1a.txt\",\"a\") as file:\n",
        "      if n % 2 == 0:\n",
        "        file.write(f\"{n} is an Even number.\\n\")\n",
        "      else:\n",
        "        file.write(f\"{n} is an odd number.\\n\")"
      ],
      "metadata": {
        "id": "70Atx6RUjbZy"
      },
      "execution_count": null,
      "outputs": []
    },
    {
      "cell_type": "code",
      "source": [],
      "metadata": {
        "id": "xQh0Z9pzSLLA"
      },
      "execution_count": null,
      "outputs": []
    }
  ]
}