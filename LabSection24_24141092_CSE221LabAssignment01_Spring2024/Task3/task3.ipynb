{
  "nbformat": 4,
  "nbformat_minor": 0,
  "metadata": {
    "colab": {
      "provenance": []
    },
    "kernelspec": {
      "name": "python3",
      "display_name": "Python 3"
    },
    "language_info": {
      "name": "python"
    }
  },
  "cells": [
    {
      "cell_type": "code",
      "execution_count": 10,
      "metadata": {
        "id": "aYYiMOJdC6Br"
      },
      "outputs": [],
      "source": [
        "with open(\"input3.txt\",\"r\") as file:\n",
        "  line = file.readlines()\n",
        "  with open(\"output3.txt\",\"a\") as file:\n",
        "    n = int(line[0])\n",
        "    id = list(map(int,line[1].split(\" \")))\n",
        "    num = list(map(int,line[2].split(\" \")))\n",
        "    for i in range(n-1):\n",
        "      max_indx = i\n",
        "      for j in range(i + 1, n):\n",
        "        if num[j] > num[max_indx] or (num[j] == num[max_indx] and id[j]<id[max_indx]):\n",
        "          max_indx = j\n",
        "      id[i], id[max_indx] = id[max_indx], id[i]\n",
        "      num[i], num[max_indx] = num[max_indx], num[i]\n",
        "    i = 0\n",
        "    while i < len(id):\n",
        "\n",
        "      file.write(f\"ID: {id[i]} Marks: {num[i]} \\n\")\n",
        "      i += 1\n"
      ]
    }
  ]
}