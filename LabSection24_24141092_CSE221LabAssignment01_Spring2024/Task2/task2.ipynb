{
  "nbformat": 4,
  "nbformat_minor": 0,
  "metadata": {
    "colab": {
      "provenance": []
    },
    "kernelspec": {
      "name": "python3",
      "display_name": "Python 3"
    },
    "language_info": {
      "name": "python"
    }
  },
  "cells": [
    {
      "cell_type": "code",
      "execution_count": null,
      "metadata": {
        "id": "Lzr4i5ZaZiWd"
      },
      "outputs": [],
      "source": [
        "with open(\"input2.txt\",\"r\") as file:\n",
        "  line = file.readlines()\n",
        "  l = line[1].split(\" \")\n",
        "  print\n",
        "  for i in range(int(line[0])):\n",
        "    check = False\n",
        "    for j in range(int(line[0])-i-1):\n",
        "      if int(l[j]) > int(l[j+1]):\n",
        "        l[j], l[j+1] = l[j+1], l[j]\n",
        "        check = True\n",
        "      elif check == False:\n",
        "        break\n",
        "  with open(\"output2.txt\",\"w\") as file:\n",
        "    file.write(' '.join(map(str, l)))"
      ]
    },
    {
      "cell_type": "markdown",
      "source": [
        "So, in best case scenario, the array is sorted. So, at first the check variable is False. Then when the nested loop condition will not operate the the nested loop will break and the outer loop will continue. And it will continue for n times, as the nested loop will not occur. That's how, Theta(n) in best case scenarion."
      ],
      "metadata": {
        "id": "jfj8pqrCO9AA"
      }
    }
  ]
}