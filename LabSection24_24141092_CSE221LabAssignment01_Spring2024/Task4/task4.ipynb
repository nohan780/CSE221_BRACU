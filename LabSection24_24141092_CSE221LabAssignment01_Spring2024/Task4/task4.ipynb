{
  "nbformat": 4,
  "nbformat_minor": 0,
  "metadata": {
    "colab": {
      "provenance": []
    },
    "kernelspec": {
      "name": "python3",
      "display_name": "Python 3"
    },
    "language_info": {
      "name": "python"
    }
  },
  "cells": [
    {
      "cell_type": "code",
      "execution_count": 59,
      "metadata": {
        "id": "C8dHhm9ITheP"
      },
      "outputs": [],
      "source": [
        "\n",
        "\n",
        "with open(\"input4.txt\",\"r\") as file:\n",
        "  line = file.readlines()\n",
        "  with open(\"output4.txt\",\"a\") as file:\n",
        "    n = int(line[0])\n",
        "    list1 = []\n",
        "    time = []\n",
        "    des = []\n",
        "    for i in range(1,n+1):\n",
        "      l1 = line[i].split(\" \")\n",
        "      list1.append(l1[0])\n",
        "      time.append(l1[6][:5])\n",
        "      des.append(l1[4])\n",
        "    for i in range(len(list1)):\n",
        "      min_indx = i\n",
        "      for j in range(i+1, len(list1)):\n",
        "        if list1[j] < list1[min_indx] or (list1[j] == list1[min_indx] and time[j] > time[min_indx]):\n",
        "          min_indx = j\n",
        "      list1[i], list1[min_indx] = list1[min_indx], list1[i]\n",
        "      time[i], time[min_indx] = time[min_indx], time[i]\n",
        "      des[i], des[min_indx] = des[min_indx], des[i]\n",
        "\n",
        "\n",
        "\n",
        "    for i in range(len(list1)):\n",
        "      file.write(f\"{list1[i]} will departure for {des[i]} at {time[i]}\\n\")\n",
        "\n",
        "\n",
        "\n",
        "\n",
        "\n",
        "\n",
        "\n",
        "\n",
        "\n",
        "\n",
        "\n",
        "\n",
        "\n"
      ]
    }
  ]
}